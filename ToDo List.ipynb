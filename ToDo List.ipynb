{
 "cells": [
  {
   "cell_type": "code",
   "execution_count": 2,
   "metadata": {
    "scrolled": true
   },
   "outputs": [
    {
     "name": "stdout",
     "output_type": "stream",
     "text": [
      "Enter Number of list of names:4\n",
      "Enter the Name of People U want to Add :farjad\n",
      "Enter the Name of People U want to Add :faaiz\n",
      "Enter the Name of People U want to Add :daud\n",
      "Enter the Name of People U want to Add :taha\n",
      "['farjad', 'faaiz', 'daud', 'taha']\n",
      "Enter the position of name to Delete: 2\n",
      "Names that You want to delete from list: daud\n",
      "Names that You want to delete from list: faaiz\n",
      "['farjad', 'taha']\n",
      "Exit program\n"
     ]
    }
   ],
   "source": [
    "todolist=[]\n",
    "List_of_names=int(input(\"Enter Number of list of names:\"))\n",
    "for i in range(List_of_names):\n",
    "    names=input(\"Enter the Name of People U want to Add :\")\n",
    "    todolist.append(names)\n",
    "print(todolist)\n",
    "del_name=int(input(\"Enter the numbers of name to Delete: \"))\n",
    "for i in range(del_name):\n",
    "    del_name=input(\"Names that You want to delete from list: \")\n",
    "    todolist.remove(del_name)\n",
    "print(todolist)\n",
    "print(\"Exit program\")"
   ]
  },
  {
   "cell_type": "code",
   "execution_count": null,
   "metadata": {},
   "outputs": [],
   "source": []
  },
  {
   "cell_type": "code",
   "execution_count": null,
   "metadata": {},
   "outputs": [],
   "source": []
  },
  {
   "cell_type": "code",
   "execution_count": null,
   "metadata": {},
   "outputs": [],
   "source": []
  }
 ],
 "metadata": {
  "kernelspec": {
   "display_name": "Python 3",
   "language": "python",
   "name": "python3"
  }
 },
 "nbformat": 4,
 "nbformat_minor": 2
}
