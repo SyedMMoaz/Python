{
 "cells": [
  {
   "cell_type": "markdown",
   "metadata": {},
   "source": [
    "<h3>Q no 1:  Write a python program to find number of occurrences of given number in a list with out using built-in methods</h3>\n",
    "<h4>**1 generate a list of some random num which is repeated again and again</h4>\n",
    "<h4>**2 take user input any number</h4>\n",
    "<h4>**3 find the number of occurrences of that num in your list</h4>\n",
    "<h4>**4 print some message to user with that result</h4>"
   ]
  },
  {
   "cell_type": "code",
   "execution_count": 4,
   "metadata": {},
   "outputs": [
    {
     "name": "stdout",
     "output_type": "stream",
     "text": [
      "Enter any number :1\n",
      "3 times repeated in list.\n"
     ]
    }
   ],
   "source": [
    "list_of_nums=(1,2,5,1,3,5,9,4,6,3,4,5,1)\n",
    "user=int(input(\"Enter any number :\"))\n",
    "total=0\n",
    "for i in list_of_nums:\n",
    "    if(user==i):\n",
    "        total+=1\n",
    "print(str(total)+\" times repeated in list.\")\n"
   ]
  },
  {
   "cell_type": "code",
   "execution_count": null,
   "metadata": {},
   "outputs": [],
   "source": []
  },
  {
   "cell_type": "markdown",
   "metadata": {},
   "source": [
    "<h3>Q no 2:   [\"www.zframez.com\", \"www.wikipedia.org\", \"www.asp.net\", \"www.abcd.in\"]\n",
    "<br/><br/><br/><br/><br/>\n",
    "Write a python program to print website suffixes (com , org , net ,in) from this list\n",
    "\n",
    "Hint : Use split() method to perform this task\n",
    "</h3>\n"
   ]
  },
  {
   "cell_type": "code",
   "execution_count": 5,
   "metadata": {},
   "outputs": [
    {
     "name": "stdout",
     "output_type": "stream",
     "text": [
      "com\n",
      "\n",
      "org\n",
      "\n",
      "net\n",
      "\n",
      "in\n",
      "\n"
     ]
    }
   ],
   "source": [
    "web_links= [\"www.zframez.com\", \"www.wikipedia.org\", \"www.asp.net\", \"www.abcd.in\"] \n",
    "for b in web_links:\n",
    "    b=b.split(\".\")\n",
    "    print(b[2]+ \"\\n\")"
   ]
  },
  {
   "cell_type": "code",
   "execution_count": null,
   "metadata": {},
   "outputs": [],
   "source": []
  },
  {
   "cell_type": "markdown",
   "metadata": {},
   "source": [
    "<h3> Q no 3 : Write a program which can compute the factorial of a given numbers.</h3>\n",
    "<br/>\n",
    "<br/>\n",
    "<h4>**1 first take user input any number</h4>\n",
    "<h4>**2 calculate factorial of that input and then print the result to user</h4>"
   ]
  },
  {
   "cell_type": "code",
   "execution_count": 9,
   "metadata": {},
   "outputs": [
    {
     "name": "stdout",
     "output_type": "stream",
     "text": [
      "Enter Factorial Number you want to find: 5\n",
      "The Factorial of 5 is 120\n"
     ]
    }
   ],
   "source": [
    "user_input= int(input(\"Enter Factorial Number you want to find: \"))\n",
    "Factorial=1;\n",
    "for i in range(1,user_input+1,1):\n",
    "    Factorial=i*Factorial\n",
    "print(\"The Factorial of\",user_input, \"is\",Factorial)"
   ]
  },
  {
   "cell_type": "code",
   "execution_count": null,
   "metadata": {},
   "outputs": [],
   "source": []
  },
  {
   "cell_type": "code",
   "execution_count": null,
   "metadata": {},
   "outputs": [],
   "source": []
  },
  {
   "cell_type": "code",
   "execution_count": null,
   "metadata": {},
   "outputs": [],
   "source": []
  },
  {
   "cell_type": "markdown",
   "metadata": {},
   "source": [
    "<h3>Q 4 (a) :  If you could invite anyone, living or deceased, to dinner, who\n",
    "would you invite? Make a list that includes at least three people you’d like to\n",
    "invite to dinner. Then use your list to print a message to each person, inviting\n",
    "them to dinner.</h3>"
   ]
  },
  {
   "cell_type": "code",
   "execution_count": 3,
   "metadata": {},
   "outputs": [
    {
     "name": "stdout",
     "output_type": "stream",
     "text": [
      "Hey. Hassan I am inviting you For Dinner On Sunday.\n",
      "Hey. Daud I am inviting you For Dinner On Sunday.\n",
      "Hey. Faizan I am inviting you For Dinner On Sunday.\n",
      "Hey. Faaiz I am inviting you For Dinner On Sunday.\n"
     ]
    }
   ],
   "source": [
    "relatives= ['Hassan','Daud','Faizan','Faaiz']\n",
    "def relatives_list(*args):\n",
    "    for i in args:\n",
    "        print(\"Hey.\",i, \"I am inviting you For Dinner On Sunday.\")\n",
    "relatives_list(*relatives)"
   ]
  },
  {
   "cell_type": "code",
   "execution_count": null,
   "metadata": {},
   "outputs": [],
   "source": []
  },
  {
   "cell_type": "code",
   "execution_count": null,
   "metadata": {},
   "outputs": [],
   "source": []
  },
  {
   "cell_type": "markdown",
   "metadata": {},
   "source": [
    "<h3>Q 4 (b) : You just heard that one of your guests can’t make the\n",
    "dinner, so you need to send out a new set of invitations. You’ll have to think of\n",
    "someone else to invite.<br/></br><br/>\n",
    "•\t Start with your program from Q 4 (a). Add a print statement at the\n",
    "end of your program stating the name of the guest who can’t make it.<br/></br><br/>\n",
    "•\t Modify your list, replacing the name of the guest who can’t make it with\n",
    "the name of the new person you are inviting.<br/></br><br/>\n",
    "•\t Print a second set of invitation messages, one for each person who is still\n",
    "in your list.<br/></br><br/></h3>"
   ]
  },
  {
   "cell_type": "code",
   "execution_count": 4,
   "metadata": {},
   "outputs": [
    {
     "name": "stdout",
     "output_type": "stream",
     "text": [
      "Hassan can't make it to the dinner.\n",
      "Jazib ,I am inviting you on dinner.\n",
      "Daud ,I am inviting you on dinner.\n",
      "Faizan ,I am inviting you on dinner.\n",
      "Faaiz ,I am inviting you on dinner.\n"
     ]
    }
   ],
   "source": [
    "print(relatives[0],\"can't make it to the dinner.\")\n",
    "relatives[relatives.index(\"Hassan\")]= \"Jazib\"\n",
    "for x in relatives:\n",
    "    print(x,\",I am inviting you on dinner.\")"
   ]
  },
  {
   "cell_type": "code",
   "execution_count": null,
   "metadata": {},
   "outputs": [],
   "source": []
  },
  {
   "cell_type": "code",
   "execution_count": null,
   "metadata": {},
   "outputs": [],
   "source": []
  },
  {
   "cell_type": "markdown",
   "metadata": {},
   "source": [
    "<h3>Q 4 (c) : You just found a bigger dinner table, so now more space is\n",
    "available. Think of three more guests to invite to dinner.<br/></br><br/>\n",
    "•\t Start with your program from Q 4 (a) and (b) Add a print\n",
    "statement to the end of your program informing people that you found a\n",
    "bigger dinner table.<br/></br><br/>\n",
    "•\t Use insert() to add one new guest to the beginning of your list.<br/></br><br/>\n",
    "•\t Use insert() to add one new guest to the middle of your list.<br/></br><br/>\n",
    "•\t Use append() to add one new guest to the end of your list.<br/></br><br/>\n",
    "•\t Print a new set of invitation messages, one for each person in your list.<br/></br><br/></h3>"
   ]
  },
  {
   "cell_type": "code",
   "execution_count": 5,
   "metadata": {
    "scrolled": true
   },
   "outputs": [
    {
     "name": "stdout",
     "output_type": "stream",
     "text": [
      "Farjad , Hey Let's Meet and Eat some Dinner.\n",
      "Jawad , Hey Let's Meet and Eat some Dinner.\n",
      "Jazib , Hey Let's Meet and Eat some Dinner.\n",
      "Daud , Hey Let's Meet and Eat some Dinner.\n",
      "Faizan , Hey Let's Meet and Eat some Dinner.\n",
      "Faaiz , Hey Let's Meet and Eat some Dinner.\n",
      "Suleman , Hey Let's Meet and Eat some Dinner.\n"
     ]
    }
   ],
   "source": [
    "relatives.insert(0,'Jawad')\n",
    "relatives.insert(0,'Farjad')\n",
    "relatives.append('Suleman')\n",
    "relatives\n",
    "for x in relatives:\n",
    "    print(x,\", Hey Let's Meet and Eat some Dinner.\")"
   ]
  },
  {
   "cell_type": "code",
   "execution_count": null,
   "metadata": {
    "scrolled": true
   },
   "outputs": [],
   "source": []
  },
  {
   "cell_type": "code",
   "execution_count": null,
   "metadata": {},
   "outputs": [],
   "source": []
  },
  {
   "cell_type": "markdown",
   "metadata": {},
   "source": [
    "<h5> Q 5 : Here you have some data in variable below, your task is to make a list of specific word Surah then print the list and length of list</h5>\n"
   ]
  },
  {
   "cell_type": "code",
   "execution_count": 6,
   "metadata": {},
   "outputs": [
    {
     "name": "stdout",
     "output_type": "stream",
     "text": [
      "['S', 'u', 'r', 'a', 'h']\n",
      "Length: 5\n"
     ]
    }
   ],
   "source": [
    "word = \"Surah\"\n",
    "new_lst = []\n",
    "for new_word in word:\n",
    "    new_lst.append(new_word)\n",
    "print(new_lst)\n",
    "print(\"Length: \"+str(len(new_lst)))"
   ]
  },
  {
   "cell_type": "code",
   "execution_count": null,
   "metadata": {},
   "outputs": [],
   "source": []
  },
  {
   "cell_type": "markdown",
   "metadata": {},
   "source": [
    " <h3>Q no 6 : You have some name of cities in list named cities, Your task is to check whether Karachi is present in this list or not, if present print the index where the value Karachi is present</h3>"
   ]
  },
  {
   "cell_type": "code",
   "execution_count": 8,
   "metadata": {},
   "outputs": [
    {
     "name": "stdout",
     "output_type": "stream",
     "text": [
      "Karachi is present in list\n",
      "Index value of Karachi is : 2\n"
     ]
    }
   ],
   "source": [
    "cities = ['Faisalabad','Gilgit','Karachi','Lahore','Islamabad','Kashmir']\n",
    "for i in cities:\n",
    "    if (i =='Karachi'):\n",
    "        print(\"Karachi is present in list\")\n",
    "print(\"Index value of Karachi is :\",cities.index('Karachi'))"
   ]
  },
  {
   "cell_type": "code",
   "execution_count": null,
   "metadata": {},
   "outputs": [],
   "source": []
  },
  {
   "cell_type": "code",
   "execution_count": null,
   "metadata": {},
   "outputs": [],
   "source": []
  }
 ],
 "metadata": {
  "kernelspec": {
   "display_name": "Python 3",
   "language": "python",
   "name": "python3"
  }
 },
 "nbformat": 4,
 "nbformat_minor": 2
}
